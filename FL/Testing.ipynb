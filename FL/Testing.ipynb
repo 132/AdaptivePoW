{
 "cells": [
  {
   "cell_type": "code",
   "execution_count": 36,
   "metadata": {},
   "outputs": [],
   "source": [
    "import numpy as np\n",
    "import pandas as pd\n",
    "import random\n",
    "import cv2\n",
    "from imutils import paths\n",
    "from sklearn.model_selection import train_test_split\n",
    "from sklearn.preprocessing import LabelBinarizer\n",
    "from sklearn.utils import shuffle\n",
    "from sklearn.metrics import accuracy_score\n",
    "from sklearn.ensemble import RandomForestClassifier\n",
    "import tensorflow as tf\n",
    "from tensorflow.keras.models import Sequential\n",
    "from tensorflow.keras.layers import Conv2D \n",
    "from tensorflow.keras.layers import MaxPooling2D\n",
    "from tensorflow.keras.layers import Activation\n",
    "from tensorflow.keras.layers import Flatten\n",
    "from tensorflow.keras.layers import Dense\n",
    "from tensorflow import keras\n",
    "# from tensorflow.keras.optimizers import SGD\n",
    "from tensorflow.keras.optimizers.legacy import SGD\n",
    "from tensorflow.keras import backend as k\n",
    "import os"
   ]
  },
  {
   "cell_type": "code",
   "execution_count": 34,
   "metadata": {},
   "outputs": [],
   "source": [
    "def  sum_scaled_weights(scaled_weight_list):\n",
    "    '''Returns the sum of the listed scaled weights.\n",
    "    scaled average of the weights'''\n",
    "    avg_grad = list()\n",
    "    #  get the average grad over all client gradients\n",
    "    for grad_list_tupel in zip(*scaled_weight_list):\n",
    "        layer_mean = tf.math.reduce_sum(grad_list_tupel, axis=0)\n",
    "        avg_grad.append(layer_mean)\n",
    "    return avg_grad\n"
   ]
  },
  {
   "cell_type": "code",
   "execution_count": 42,
   "metadata": {},
   "outputs": [],
   "source": [
    "def scale_model_weights(weight,scalar):\n",
    "    '''Function for scaling a model's weights'''\n",
    "    weight_final = []\n",
    "    steps = len(weight)\n",
    "    for i in range(steps):\n",
    "        weight_final.append(scalar*weight[i])\n",
    "    return weight_final"
   ]
  },
  {
   "cell_type": "code",
   "execution_count": 22,
   "metadata": {},
   "outputs": [],
   "source": [
    "class SimpleMLP:\n",
    "    @staticmethod\n",
    "    def build(shape, classes):\n",
    "        model = Sequential()\n",
    "        model.add(Dense(200, input_shape=(shape,)))\n",
    "        model.add(Activation(\"relu\"))\n",
    "        model.add(Dense(200))\n",
    "        model.add(Activation(\"relu\"))\n",
    "        model.add(Dense(classes))\n",
    "        model.add(Activation(\"softmax\"))\n",
    "        return model\n",
    "lr = 0.01\n",
    "coms_round = 100\n",
    "loss = 'categorical_crossentropy'\n",
    "metrics = ['accuracy']\n",
    "optimizer = SGD(learning_rate = lr,\n",
    "                momentum = 0.9\n",
    "                )"
   ]
  },
  {
   "cell_type": "code",
   "execution_count": 43,
   "metadata": {},
   "outputs": [],
   "source": [
    "# Read all the h5 files from the path\n",
    "img_path = '/home/nextg3/Documents/Thesis/Code/FL/local_models'\n",
    "# Get path list\n",
    "image_paths = list(paths.list_files(img_path))\n",
    "local_models  = []\n",
    "\n",
    "# get all models\n",
    "for p in image_paths:\n",
    "    test_model = SimpleMLP()\n",
    "    local_model = test_model.build(784,10)\n",
    "    local_model.compile(loss=loss,\n",
    "                        optimizer=optimizer,\n",
    "                        metrics=metrics)\n",
    "    # set weights of the global model as weights of the local modelk\n",
    "\n",
    "    local_model.load_weights(p)\n",
    "    scaled_model_weights = scale_model_weights(local_model.get_weights(),len(image_paths))\n",
    "    local_models.append(scaled_model_weights)\n",
    "    k.clear_session()\n",
    "\n",
    "\n",
    "\n",
    "# Final weights\n",
    "average_weights = sum_scaled_weights(local_models)\n",
    "smlp_global = SimpleMLP()\n",
    "global_model = smlp_global.build(784,10)\n",
    "global_model.set_weights(average_weights)\n",
    "global_model.save_weights('/home/nextg3/Documents/Thesis/Code/FL/global_model.h5')\n",
    "\n",
    "# # update global model\n",
    "# global_model.set_weights(average_weights)"
   ]
  },
  {
   "cell_type": "code",
   "execution_count": 30,
   "metadata": {},
   "outputs": [
    {
     "data": {
      "text/plain": [
       "10"
      ]
     },
     "execution_count": 30,
     "metadata": {},
     "output_type": "execute_result"
    }
   ],
   "source": [
    "# img_path = '/home/nextg3/Documents/Thesis/Code/FL/local_models'\n",
    "# list(paths.list_files(img_path))\n",
    "len(local_models)"
   ]
  },
  {
   "cell_type": "code",
   "execution_count": 27,
   "metadata": {},
   "outputs": [],
   "source": [
    "test_model = SimpleMLP()\n",
    "local_model = test_model.build(784,10)\n",
    "local_model.compile(loss=loss,\n",
    "                    optimizer=optimizer,\n",
    "                    metrics=metrics)\n",
    "# set weights of the global model as weights of the local modelk\n",
    "local_model.load_weights('/home/nextg3/Documents/Thesis/Code/FL/weights.h5')"
   ]
  },
  {
   "cell_type": "code",
   "execution_count": 26,
   "metadata": {},
   "outputs": [],
   "source": [
    "k.clear_session()"
   ]
  },
  {
   "cell_type": "code",
   "execution_count": null,
   "metadata": {},
   "outputs": [],
   "source": []
  }
 ],
 "metadata": {
  "kernelspec": {
   "display_name": "fl",
   "language": "python",
   "name": "python3"
  },
  "language_info": {
   "codemirror_mode": {
    "name": "ipython",
    "version": 3
   },
   "file_extension": ".py",
   "mimetype": "text/x-python",
   "name": "python",
   "nbconvert_exporter": "python",
   "pygments_lexer": "ipython3",
   "version": "3.9.16"
  },
  "orig_nbformat": 4,
  "vscode": {
   "interpreter": {
    "hash": "5b07f451ebbbe1f80453345214d70880b5111d33133c65ac28c98b3e601695cb"
   }
  }
 },
 "nbformat": 4,
 "nbformat_minor": 2
}
