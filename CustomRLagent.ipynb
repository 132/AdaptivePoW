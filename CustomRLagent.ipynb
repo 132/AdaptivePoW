{
 "cells": [
  {
   "cell_type": "code",
   "execution_count": 1,
   "id": "32f45807",
   "metadata": {},
   "outputs": [],
   "source": [
    "# Gym Dependencies\n",
    "import gym\n",
    "from gym import Env\n",
    "from gym.spaces import Discrete, Box, Dict, Tuple, MultiBinary, MultiDiscrete\n",
    "\n",
    "# Import helpers\n",
    "import numpy as np\n",
    "import random\n",
    "import os\n",
    "\n",
    "# Imprt stable baseline dependencies\n",
    "from stable_baselines3 import PPO\n",
    "from stable_baselines3.common.vec_env import DummyVecEnv\n",
    "from stable_baselines3.common.evaluation import evaluate_policy"
   ]
  },
  {
   "cell_type": "markdown",
   "id": "a0633eb4",
   "metadata": {},
   "source": [
    "## Build a custom Envirnment\n",
    " - Action Space\n",
    "     - increase Diff\n",
    "     - Decrease Diff\n",
    "     - Keep Diff same\n",
    "     - Predict miners\n",
    " - Observation Space\n",
    "     - time less than expected\n",
    "     - time more than expected\n",
    "     - time in desired range\n",
    "     - right set of miners\n",
    "     - wrong set of miners\n",
    " - Reward Function\n",
    "     - If miners were predicted correctly:\n",
    "         - if time in [2,10] = + 10\n",
    "         - if time not in [10,12] + 5\n",
    "     - Else:\n",
    "         - -5"
   ]
  },
  {
   "cell_type": "code",
   "execution_count": null,
   "id": "d4536e60",
   "metadata": {},
   "outputs": [],
   "source": [
    "class ShoverEnv(Env):\n",
    "    def __init__(self):\n",
    "        self.action_space = Discrete(3)\n",
    "#         self.observation_space = Box(low=np.array([0]), high = np.array([100]))\n",
    "        self.observation_space = Box(low=0,high=100,shape=(1,))\n",
    "        self.state = 38 + random.randint(-3,-3)\n",
    "        self.shower_length = 60\n",
    "        \n",
    "    def step(self,action):\n",
    "        # Apply temp\n",
    "        self.state += action-1\n",
    "        \n",
    "        # Decrease shower time\n",
    "        self.shower_length-=1\n",
    "        \n",
    "        # Calculate_reward\n",
    "        if self.state>=37 and self.state<=39:\n",
    "            reward = 1\n",
    "        else:\n",
    "            reward = -1\n",
    "            \n",
    "        if self.shower_length<=0:\n",
    "            done = True\n",
    "        else:\n",
    "            done = False\n",
    "            \n",
    "        info = {}\n",
    "        \n",
    "        return self.state, reward, done, info\n",
    "            \n",
    "        \n",
    "    def render(self):\n",
    "        pass\n",
    "    def reset(self):\n",
    "        self.state = np.array([38+random.randint(-3,3)]).astype(float)\n",
    "        self.shower_length = 60\n",
    "        return self.state\n",
    "    "
   ]
  }
 ],
 "metadata": {
  "kernelspec": {
   "display_name": "Python [conda env:ML]",
   "language": "python",
   "name": "conda-env-ML-py"
  },
  "language_info": {
   "codemirror_mode": {
    "name": "ipython",
    "version": 3
   },
   "file_extension": ".py",
   "mimetype": "text/x-python",
   "name": "python",
   "nbconvert_exporter": "python",
   "pygments_lexer": "ipython3",
   "version": "3.9.7"
  }
 },
 "nbformat": 4,
 "nbformat_minor": 5
}
