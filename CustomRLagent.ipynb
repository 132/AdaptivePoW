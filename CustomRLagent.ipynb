{
 "cells": [
  {
   "cell_type": "code",
   "execution_count": 13,
   "id": "32f45807",
   "metadata": {},
   "outputs": [],
   "source": [
    "# Gym Dependencies\n",
    "import gym\n",
    "from gym import Env\n",
    "from gym.spaces import Discrete, Box, Dict, Tuple, MultiBinary, MultiDiscrete\n",
    "\n",
    "# Import helpers\n",
    "import numpy as np\n",
    "import random\n",
    "import os\n",
    "\n",
    "# Imprt stable baseline dependencies\n",
    "from stable_baselines3 import PPO\n",
    "from stable_baselines3.common.vec_env import DummyVecEnv\n",
    "from stable_baselines3.common.evaluation import evaluate_policyself.difficulty*2\n",
    "\n",
    "import pandas as pd\n",
    "import time"
   ]
  },
  {
   "cell_type": "markdown",
   "id": "a0633eb4",
   "metadata": {},
   "source": [
    "## Build a custom Envirnment\n",
    " - Action Space\n",
    "     - increase Diff\n",
    "     - Decrease Diff\n",
    "     - Keep Diff same\n",
    "     - Predict miners\n",
    " - Observation Space\n",
    "     - time less than expected\n",
    "     - time more than expected\n",
    "     - time in desired range\n",
    "     - right set of miners\n",
    "     - wrong set of miners\n",
    " - Reward Function\n",
    "     - If miners were predicted correctly:\n",
    "         - if time in [2,10] = + 10\n",
    "         - if time not in [10,12] + 5\n",
    "     - Else:\n",
    "         - -5"
   ]
  },
  {
   "cell_type": "code",
   "execution_count": null,
   "id": "d4536e60",
   "metadata": {},
   "outputs": [],
   "source": [
    "class ShoverEnv(Env):\n",
    "    def __init__(self):\n",
    "        self.action_space = Discrete(3)\n",
    "#         self.observation_space = Box(low=np.array([0]), high = np.array([100]))\n",
    "        self.observation_space = Box(low=0,high=100,shape=(1,))\n",
    "        self.state = 38 + random.randint(-3,-3)\n",
    "        self.shower_length = 60\n",
    "        \n",
    "    def step(self,action):\n",
    "        # Apply temp\n",
    "        self.state += action-1\n",
    "        \n",
    "        # Decrease shower time\n",
    "        self.shower_length-=1\n",
    "        \n",
    "        # Calculate_reward\n",
    "        if self.state>=37 and self.state<=39:\n",
    "            reward = 1\n",
    "        else:\n",
    "            reward = -1\n",
    "            \n",
    "        if self.shower_length<=0:\n",
    "            done = True\n",
    "        else:\n",
    "            done = False\n",
    "            \n",
    "        info = {}\n",
    "        \n",
    "        return self.state, reward, done, info\n",
    "            \n",
    "        \n",
    "    def render(self):\n",
    "        pass\n",
    "    def reset(self):\n",
    "        self.state = np.array([38+random.randint(-3,3)]).astype(float)\n",
    "        self.shower_length = 60\n",
    "        return self.state\n",
    "    "
   ]
  },
  {
   "cell_type": "code",
   "execution_count": 11,
   "id": "4f46602a",
   "metadata": {},
   "outputs": [],
   "source": [
    "class blockChainNode():\n",
    "    def __init__(self,pattern:pd.DataFrame,difficulty):\n",
    "        self.current_time=pattern.iloc[0,0]\n",
    "        self.difficulty = difficulty\n",
    "    \n",
    "    def trainFL(self):\n",
    "        time.sleep(5)\n",
    "        return True\n",
    "    \n",
    "    def mineNode(self,difficulty):\n",
    "        self.difficulty = difficulty\n",
    "        time.sleep((self.difficulty*2)//)\n",
    "        return True\n",
    "        \n"
   ]
  },
  {
   "cell_type": "code",
   "execution_count": 12,
   "id": "4fba9e20",
   "metadata": {},
   "outputs": [
    {
     "ename": "TypeError",
     "evalue": "blockChainNode.__init__() missing 3 required positional arguments: 'x', 'y', and 'z'",
     "output_type": "error",
     "traceback": [
      "\u001b[0;31m---------------------------------------------------------------------------\u001b[0m",
      "\u001b[0;31mTypeError\u001b[0m                                 Traceback (most recent call last)",
      "\u001b[1;32m/home/nextg3/Documents/Thesis/Code/CustomRLagent.ipynb Cell 5\u001b[0m in \u001b[0;36m<cell line: 1>\u001b[0;34m()\u001b[0m\n\u001b[0;32m----> <a href='vscode-notebook-cell:/home/nextg3/Documents/Thesis/Code/CustomRLagent.ipynb#W4sZmlsZQ%3D%3D?line=0'>1</a>\u001b[0m a \u001b[39m=\u001b[39m blockChainNode()\n",
      "\u001b[0;31mTypeError\u001b[0m: blockChainNode.__init__() missing 3 required positional arguments: 'x', 'y', and 'z'"
     ]
    }
   ],
   "source": [
    "a = blockChainNode()"
   ]
  },
  {
   "cell_type": "code",
   "execution_count": null,
   "id": "3b81ac80",
   "metadata": {},
   "outputs": [],
   "source": []
  }
 ],
 "metadata": {
  "kernelspec": {
   "display_name": "rl",
   "language": "python",
   "name": "rl"
  },
  "language_info": {
   "codemirror_mode": {
    "name": "ipython",
    "version": 3
   },
   "file_extension": ".py",
   "mimetype": "text/x-python",
   "name": "python",
   "nbconvert_exporter": "python",
   "pygments_lexer": "ipython3",
   "version": "3.10.8"
  }
 },
 "nbformat": 4,
 "nbformat_minor": 5
}
