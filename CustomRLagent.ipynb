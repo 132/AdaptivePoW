{
 "cells": [
  {
   "cell_type": "code",
   "execution_count": 1,
   "id": "d3b9c582",
   "metadata": {},
   "outputs": [],
   "source": [
    "# ! pip install stable_baselines3\n",
    "import pan"
   ]
  },
  {
   "cell_type": "code",
   "execution_count": 7,
   "id": "32f45807",
   "metadata": {},
   "outputs": [],
   "source": [
    "# Gym Dependencies\n",
    "import gym\n",
    "from gym import Env\n",
    "from gym.spaces import Discrete, Box, Dict, Tuple, MultiBinary, MultiDiscrete\n",
    "\n",
    "# Import helpers\n",
    "import numpy as np\n",
    "import random\n",
    "import os\n",
    "\n",
    "# Imprt stable baseline dependencies\n",
    "from stable_baselines3 import PPO\n",
    "from stable_baselines3.common.vec_env import DummyVecEnv\n",
    "from stable_baselines3.common.evaluation import evaluate_policy\n",
    "\n",
    "import pandas as pd\n",
    "import time"
   ]
  },
  {
   "cell_type": "markdown",
   "id": "a0633eb4",
   "metadata": {},
   "source": [
    "## Build a custom Envirnment\n",
    " - Action Space\n",
    "     - increase Diff\n",
    "     - Decrease Diff\n",
    "     - Keep Diff same\n",
    "     - Predict miners\n",
    " - Observation Space\n",
    "     - time less than expected\n",
    "     - time more than expected\n",
    "     - time in desired range\n",
    "     - right set of miners\n",
    "     - wrong set of miners\n",
    " - Reward Function\n",
    "     - If miners were predicted correctly:\n",
    "         - if time in [2,10] = + 10\n",
    "         - if time not in [10,12] + 5\n",
    "     - Else:\n",
    "         - -5"
   ]
  },
  {
   "cell_type": "code",
   "execution_count": null,
   "id": "d4536e60",
   "metadata": {},
   "outputs": [],
   "source": [
    "class adaptiveBlockChainverEnv(Env):\n",
    "    def __init__(self,timer):\n",
    "        self.action_space = Discrete(3)\n",
    "#         self.observation_space = Box(low=np.array([0]), high = np.array([100]))\n",
    "        self.observation_space = Box(low=0,high=100,shape=(1,))\n",
    "        self.state = 38 + random.randint(-3,-3)\n",
    "        self.shower_length = 60\n",
    "        \n",
    "    def step(self,action):\n",
    "        # Apply temp\n",
    "        self.state += action-1\n",
    "        \n",
    "        # Decrease shower time\n",
    "        self.shower_length-=1\n",
    "        \n",
    "        # Calculate_reward\n",
    "        if self.state>=37 and self.state<=39:\n",
    "            reward = 1\n",
    "        else:\n",
    "            reward = -1\n",
    "            \n",
    "        if self.shower_length<=0:\n",
    "            done = True\n",
    "        else:\n",
    "            done = False\n",
    "            \n",
    "        info = {}\n",
    "        \n",
    "        return self.state, reward, done, info\n",
    "            \n",
    "        \n",
    "    def render(self):\n",
    "        pass\n",
    "    def reset(self):\n",
    "        self.state = np.array([38+random.randint(-3,3)]).astype(float)\n",
    "        self.shower_length = 60\n",
    "        return self.state\n",
    "    "
   ]
  },
  {
   "cell_type": "code",
   "execution_count": 3,
   "id": "4f46602a",
   "metadata": {
    "ExecuteTime": {
     "end_time": "2022-12-06T20:37:03.287801Z",
     "start_time": "2022-12-06T20:37:03.283363Z"
    }
   },
   "outputs": [],
   "source": [
    "class privateBlockChain:\n",
    "    def __init__(self,node_df:pd.DataFrame,difficulty,nodeList,CurrentTime):\n",
    "        self.df = node_df\n",
    "        self.difficulty = difficulty\n",
    "        self.bc_nodes = create_node(node_df,nodeList)\n",
    "        self.bc_data = None\n",
    "        self.timeindex = 0\n",
    "        self.currentTime = self.df.iloc[self.timeindex,'Date']\n",
    "    \n",
    "    def create_node(self,node_df,nodeList):\n",
    "        nc_nodes = []\n",
    "        for node in nodeList:\n",
    "            single_node_df = self.node_df[['Date',node,'Compute_'+str(node),'Compute_Available_'+str(node)]].copy()\n",
    "            nc_nodes.append(BC_node(node,single_node_df,self.current_time,self.bc_data))\n",
    "            \n",
    "        return nc_node\n",
    "    \n",
    "    def incrementTime(self):\n",
    "        self.timeindex +=1\n",
    "        self.currentTime = self.df.iloc[self.timeindex,'Date']\n",
    "    \n",
    "    def transact(self):\n",
    "        pass\n",
    "    \n",
    "    def startMining(self,miningNodes,Difficulty):\n",
    "        pass\n",
    "    \n",
    "    def deleteNode(self,nodeList):\n",
    "        pass\n",
    "    \n",
    "    class BC_node:\n",
    "        def __init__(self,node,single_node_df,current_time,bc_data):\n",
    "            self.currentTime  = current_time\n",
    "            self.maxCompute = single_node_df.loc[single_node_df['Date']==current_time,'Compute_'+str(node)]\n",
    "            self.computeAvailable = single_node_df.loc[single_node_df['Date']==current_time,'Compute_Available_'+str(node)]\n",
    "            self.nodeData = bc_data\n",
    "        \n",
    "        def Transact():\n",
    "            pass\n",
    "    \n",
    "        \n",
    "        def updateNode():\n",
    "            pass\n",
    "        \n",
    "            "
   ]
  },
  {
   "cell_type": "code",
   "execution_count": null,
   "id": "3ff66ae5",
   "metadata": {},
   "outputs": [],
   "source": [
    "    def trainFL(self):\n",
    "        time.sleep(5)\n",
    "        return True\n",
    "    \n",
    "    def mineNode(self,difficulty):\n",
    "        self.difficulty = difficulty\n",
    "        time.sleep((self.difficulty*2)//)\n",
    "        return True"
   ]
  },
  {
   "cell_type": "code",
   "execution_count": 2,
   "id": "4fba9e20",
   "metadata": {
    "ExecuteTime": {
     "end_time": "2022-12-06T20:33:12.038565Z",
     "start_time": "2022-12-06T20:33:12.036219Z"
    }
   },
   "outputs": [],
   "source": [
    "# a = blockChainNode()"
   ]
  },
  {
   "cell_type": "markdown",
   "id": "589047c1",
   "metadata": {},
   "source": [
    "## Read Dataset"
   ]
  },
  {
   "cell_type": "code",
   "execution_count": 12,
   "id": "69a90249",
   "metadata": {},
   "outputs": [],
   "source": [
    "df_node = pd.read_csv('UE_dataset.csv')"
   ]
  },
  {
   "cell_type": "code",
   "execution_count": 13,
   "id": "b0f7e00e",
   "metadata": {},
   "outputs": [
    {
     "data": {
      "text/html": [
       "<div>\n",
       "<style scoped>\n",
       "    .dataframe tbody tr th:only-of-type {\n",
       "        vertical-align: middle;\n",
       "    }\n",
       "\n",
       "    .dataframe tbody tr th {\n",
       "        vertical-align: top;\n",
       "    }\n",
       "\n",
       "    .dataframe thead th {\n",
       "        text-align: right;\n",
       "    }\n",
       "</style>\n",
       "<table border=\"1\" class=\"dataframe\">\n",
       "  <thead>\n",
       "    <tr style=\"text-align: right;\">\n",
       "      <th></th>\n",
       "      <th>Date</th>\n",
       "      <th>D0</th>\n",
       "      <th>Compute_D0</th>\n",
       "      <th>Compute_Available_D0</th>\n",
       "      <th>D1</th>\n",
       "      <th>Compute_D1</th>\n",
       "      <th>Compute_Available_D1</th>\n",
       "      <th>D2</th>\n",
       "      <th>Compute_D2</th>\n",
       "      <th>Compute_Available_D2</th>\n",
       "      <th>...</th>\n",
       "      <th>Compute_Available_D46</th>\n",
       "      <th>D47</th>\n",
       "      <th>Compute_D47</th>\n",
       "      <th>Compute_Available_D47</th>\n",
       "      <th>D48</th>\n",
       "      <th>Compute_D48</th>\n",
       "      <th>Compute_Available_D48</th>\n",
       "      <th>D49</th>\n",
       "      <th>Compute_D49</th>\n",
       "      <th>Compute_Available_D49</th>\n",
       "    </tr>\n",
       "  </thead>\n",
       "  <tbody>\n",
       "    <tr>\n",
       "      <th>0</th>\n",
       "      <td>2020-01-01 00:00:00</td>\n",
       "      <td>0.0</td>\n",
       "      <td>5</td>\n",
       "      <td>0.0</td>\n",
       "      <td>0.0</td>\n",
       "      <td>6</td>\n",
       "      <td>0.0</td>\n",
       "      <td>0.0</td>\n",
       "      <td>8</td>\n",
       "      <td>0.0</td>\n",
       "      <td>...</td>\n",
       "      <td>0.0</td>\n",
       "      <td>0.0</td>\n",
       "      <td>5</td>\n",
       "      <td>0.0</td>\n",
       "      <td>0.0</td>\n",
       "      <td>9</td>\n",
       "      <td>0.0</td>\n",
       "      <td>0.0</td>\n",
       "      <td>9</td>\n",
       "      <td>0.0</td>\n",
       "    </tr>\n",
       "    <tr>\n",
       "      <th>1</th>\n",
       "      <td>2020-01-01 00:01:00</td>\n",
       "      <td>0.0</td>\n",
       "      <td>5</td>\n",
       "      <td>0.0</td>\n",
       "      <td>0.0</td>\n",
       "      <td>6</td>\n",
       "      <td>0.0</td>\n",
       "      <td>0.0</td>\n",
       "      <td>8</td>\n",
       "      <td>0.0</td>\n",
       "      <td>...</td>\n",
       "      <td>0.0</td>\n",
       "      <td>0.0</td>\n",
       "      <td>5</td>\n",
       "      <td>0.0</td>\n",
       "      <td>0.0</td>\n",
       "      <td>9</td>\n",
       "      <td>0.0</td>\n",
       "      <td>0.0</td>\n",
       "      <td>9</td>\n",
       "      <td>0.0</td>\n",
       "    </tr>\n",
       "  </tbody>\n",
       "</table>\n",
       "<p>2 rows × 151 columns</p>\n",
       "</div>"
      ],
      "text/plain": [
       "                  Date   D0  Compute_D0  Compute_Available_D0   D1  \\\n",
       "0  2020-01-01 00:00:00  0.0           5                   0.0  0.0   \n",
       "1  2020-01-01 00:01:00  0.0           5                   0.0  0.0   \n",
       "\n",
       "   Compute_D1  Compute_Available_D1   D2  Compute_D2  Compute_Available_D2  \\\n",
       "0           6                   0.0  0.0           8                   0.0   \n",
       "1           6                   0.0  0.0           8                   0.0   \n",
       "\n",
       "   ...  Compute_Available_D46  D47  Compute_D47  Compute_Available_D47  D48  \\\n",
       "0  ...                    0.0  0.0            5                    0.0  0.0   \n",
       "1  ...                    0.0  0.0            5                    0.0  0.0   \n",
       "\n",
       "   Compute_D48  Compute_Available_D48  D49  Compute_D49  Compute_Available_D49  \n",
       "0            9                    0.0  0.0            9                    0.0  \n",
       "1            9                    0.0  0.0            9                    0.0  \n",
       "\n",
       "[2 rows x 151 columns]"
      ]
     },
     "execution_count": 13,
     "metadata": {},
     "output_type": "execute_result"
    }
   ],
   "source": [
    "df_node.head(2)"
   ]
  },
  {
   "cell_type": "code",
   "execution_count": 14,
   "id": "16650d34",
   "metadata": {},
   "outputs": [],
   "source": [
    "df1 = df_node[['Date','D0','Compute_Available_D0']].copy()"
   ]
  },
  {
   "cell_type": "code",
   "execution_count": 16,
   "id": "0d724c78",
   "metadata": {},
   "outputs": [
    {
     "data": {
      "text/plain": [
       "<AxesSubplot: >"
      ]
     },
     "execution_count": 16,
     "metadata": {},
     "output_type": "execute_result"
    },
    {
     "data": {
      "image/png": "[encoded data removed]",
      "text/plain": [
       "<Figure size 432x288 with 1 Axes>"
      ]
     },
     "metadata": {
      "needs_background": "light"
     },
     "output_type": "display_data"
    }
   ],
   "source": [
    "df1.plot(kind='line')"
   ]
  },
  {
   "cell_type": "code",
   "execution_count": null,
   "id": "e5f75507",
   "metadata": {},
   "outputs": [],
   "source": [
    "if x:\n",
    "    cwec\n",
    "elseconda deactivate\n"
   ]
  }
 ],
 "metadata": {
  "kernelspec": {
   "display_name": "rl",
   "language": "python",
   "name": "rl"
  },
  "language_info": {
   "codemirror_mode": {
    "name": "ipython",
    "version": 3
   },
   "file_extension": ".py",
   "mimetype": "text/x-python",
   "name": "python",
   "nbconvert_exporter": "python",
   "pygments_lexer": "ipython3",
   "version": "3.10.8"
  }
 },
 "nbformat": 4,
 "nbformat_minor": 5
}
